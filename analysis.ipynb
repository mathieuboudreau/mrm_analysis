{
 "cells": [
  {
   "cell_type": "markdown",
   "id": "a4782882",
   "metadata": {},
   "source": [
    "# Choose year"
   ]
  },
  {
   "cell_type": "code",
   "execution_count": null,
   "id": "bfedbb7a",
   "metadata": {},
   "outputs": [],
   "source": [
    "year = 2020 # See below for available years"
   ]
  },
  {
   "cell_type": "markdown",
   "id": "ca9a51d9",
   "metadata": {},
   "source": [
    "## Python imports"
   ]
  },
  {
   "cell_type": "code",
   "execution_count": null,
   "id": "0a8ce120",
   "metadata": {},
   "outputs": [],
   "source": [
    "import wget\n",
    "import pandas as pd\n",
    "import numpy as np\n",
    "import unittest\n",
    "import warnings"
   ]
  },
  {
   "cell_type": "markdown",
   "id": "20b81e8a",
   "metadata": {},
   "source": [
    "## Download data"
   ]
  },
  {
   "cell_type": "code",
   "execution_count": null,
   "id": "881961ea",
   "metadata": {},
   "outputs": [],
   "source": [
    "years_available = {\n",
    "  2020: \"https://osf.io/qsa4x/download/\",\n",
    "  2021: \"https://osf.io/76ufq/download/\",\n",
    "  2022: \"https://osf.io/yxvpq/download/\"\n",
    "}\n",
    "\n",
    "try:\n",
    "    filename = wget.download(years_available[year])\n",
    "except:\n",
    "    Exception('Year not available.')\n",
    "    \n",
    "print(filename)"
   ]
  },
  {
   "cell_type": "markdown",
   "id": "563509dc",
   "metadata": {},
   "source": [
    "## Generate database"
   ]
  },
  {
   "cell_type": "code",
   "execution_count": null,
   "id": "6e59f4e4",
   "metadata": {},
   "outputs": [],
   "source": [
    "xls = pd.ExcelFile(filename)\n",
    "\n",
    "months = [\n",
    "    'January',\n",
    "    'February',\n",
    "    'March',\n",
    "    'April',\n",
    "    'May',\n",
    "    'June',\n",
    "    'July',\n",
    "    'August',\n",
    "    'September',\n",
    "    'October',\n",
    "    'November',\n",
    "    'December'\n",
    "]\n",
    "\n",
    "for month in months:\n",
    "    if month == 'January':\n",
    "        df = pd.read_excel(xls, month)\n",
    "    else:\n",
    "        df = df.append(pd.read_excel(xls, month))\n"
   ]
  },
  {
   "cell_type": "markdown",
   "id": "9621dc97",
   "metadata": {},
   "source": [
    "## Cleanup"
   ]
  },
  {
   "cell_type": "code",
   "execution_count": null,
   "id": "7d038917",
   "metadata": {},
   "outputs": [],
   "source": [
    "# Convert months to proper format\n",
    "df['Month'] = pd.DatetimeIndex(df['Month']).month"
   ]
  },
  {
   "cell_type": "code",
   "execution_count": null,
   "id": "3cd9e3f2",
   "metadata": {},
   "outputs": [],
   "source": [
    "# Convert languages entries to all lowercase\n",
    "df['Language(s)'] = df['Language(s)'].str.lower()"
   ]
  },
  {
   "cell_type": "code",
   "execution_count": null,
   "id": "e1cf453f",
   "metadata": {},
   "outputs": [],
   "source": [
    "# Convert gender entries to all lowercase\n",
    "df['First author gender'] = df['First author gender'].str.lower()\n",
    "df['Last author gender'] = df['Last author gender'].str.lower()"
   ]
  },
  {
   "cell_type": "markdown",
   "id": "490a0703",
   "metadata": {},
   "source": [
    "## Global stats"
   ]
  },
  {
   "cell_type": "code",
   "execution_count": null,
   "id": "e72c8155",
   "metadata": {},
   "outputs": [],
   "source": [
    "global_count = df.count()\n",
    "print(global_count)"
   ]
  },
  {
   "cell_type": "code",
   "execution_count": null,
   "id": "bd96b8f4",
   "metadata": {},
   "outputs": [],
   "source": [
    "papers_total= global_count['Filename']\n",
    "print(papers_total)"
   ]
  },
  {
   "cell_type": "code",
   "execution_count": null,
   "id": "5b2c05b5",
   "metadata": {},
   "outputs": [],
   "source": [
    "keywords_total = global_count['Keywords Matched']\n",
    "print(keywords_total)"
   ]
  },
  {
   "cell_type": "code",
   "execution_count": null,
   "id": "50bdd7aa",
   "metadata": {},
   "outputs": [],
   "source": [
    "false_positives = np.sum(df['False Positive?'] == True)\n",
    "print(false_positives)"
   ]
  },
  {
   "cell_type": "code",
   "execution_count": null,
   "id": "eb1d88bf",
   "metadata": {},
   "outputs": [],
   "source": [
    "shared_codedata = np.sum(df['False Positive?'] == False)\n",
    "print(shared_codedata)"
   ]
  },
  {
   "cell_type": "markdown",
   "id": "dff9f806",
   "metadata": {},
   "source": [
    "## Sanity checks"
   ]
  },
  {
   "cell_type": "code",
   "execution_count": null,
   "id": "adf46df3",
   "metadata": {},
   "outputs": [],
   "source": [
    "if global_count['Keywords Matched'] != global_count['False Positive?']:\n",
    "    warnings.warn('Keywords matched count must match False positive entries count in database. Correct your Excel sheet.')"
   ]
  },
  {
   "cell_type": "code",
   "execution_count": null,
   "id": "2d1a24a9",
   "metadata": {},
   "outputs": [],
   "source": [
    "gender_first_author_count = df['First author gender'].value_counts()\n",
    "gender_last_author_count = df['Last author gender'].value_counts()"
   ]
  },
  {
   "cell_type": "code",
   "execution_count": null,
   "id": "32cfa1f7",
   "metadata": {},
   "outputs": [],
   "source": [
    "if np.array_equal(gender_first_author_count.keys().tolist(), ['male', 'female']) == False: \n",
    "    warnings.warn('Please verify that there is no bad inputs in the first author gender entries')\n",
    "    print(gender_first_author_count.keys().tolist())"
   ]
  },
  {
   "cell_type": "code",
   "execution_count": null,
   "id": "98b31dd4",
   "metadata": {},
   "outputs": [],
   "source": [
    "if np.array_equal(gender_last_author_count.keys().tolist(), ['male', 'female']) == False: \n",
    "    warnings.warn('Please verify that there is no bad inputs in the last author gender entries')\n",
    "    print(gender_last_author_count.keys().tolist())"
   ]
  },
  {
   "cell_type": "markdown",
   "id": "097bc945",
   "metadata": {},
   "source": [
    "## Get code/data counts"
   ]
  },
  {
   "cell_type": "code",
   "execution_count": null,
   "id": "5578b840",
   "metadata": {},
   "outputs": [],
   "source": [
    "shared_code = np.sum(df['Shared code?'] == True)\n",
    "print(shared_code)"
   ]
  },
  {
   "cell_type": "code",
   "execution_count": null,
   "id": "220f445d",
   "metadata": {},
   "outputs": [],
   "source": [
    "shared_data = np.sum(df['Shared data?'] == True)\n",
    "print(shared_data)"
   ]
  },
  {
   "cell_type": "markdown",
   "id": "f1ef248b",
   "metadata": {},
   "source": [
    "## Get website counts"
   ]
  },
  {
   "cell_type": "code",
   "execution_count": null,
   "id": "49c68b18",
   "metadata": {},
   "outputs": [],
   "source": [
    "links_count = df['Link'].value_counts()\n",
    "print(links_count.to_string())"
   ]
  },
  {
   "cell_type": "code",
   "execution_count": null,
   "id": "e513c578",
   "metadata": {},
   "outputs": [],
   "source": [
    "github_count = links_count.filter(regex='github')\n",
    "github_total = np.sum(github_count.values)\n",
    "print(github_total)"
   ]
  },
  {
   "cell_type": "code",
   "execution_count": null,
   "id": "941c4e2c",
   "metadata": {},
   "outputs": [],
   "source": [
    "gitlab_count = links_count.filter(regex='gitlab')\n",
    "gitlab_total = np.sum(gitlab_count.values)\n",
    "print(gitlab_total)"
   ]
  },
  {
   "cell_type": "code",
   "execution_count": null,
   "id": "df20074d",
   "metadata": {},
   "outputs": [],
   "source": [
    "zenodo_count = links_count.filter(regex='zenodo')\n",
    "zenodo_total = np.sum(zenodo_count.values)\n",
    "print(zenodo_total)"
   ]
  },
  {
   "cell_type": "code",
   "execution_count": null,
   "id": "56f9ac09",
   "metadata": {},
   "outputs": [],
   "source": [
    "osf_count = links_count.filter(regex='osf')\n",
    "osf_total = np.sum(osf_count.values)\n",
    "print(osf_total)"
   ]
  },
  {
   "cell_type": "markdown",
   "id": "00f5dd99",
   "metadata": {},
   "source": [
    "## Get language counts"
   ]
  },
  {
   "cell_type": "code",
   "execution_count": null,
   "id": "01e0ed2a",
   "metadata": {},
   "outputs": [],
   "source": [
    "df['Language(s)'].unique()"
   ]
  },
  {
   "cell_type": "code",
   "execution_count": null,
   "id": "91dc08d8",
   "metadata": {},
   "outputs": [],
   "source": [
    "languages_count = df['Language(s)'].value_counts()"
   ]
  },
  {
   "cell_type": "code",
   "execution_count": null,
   "id": "a48dc57c",
   "metadata": {},
   "outputs": [],
   "source": [
    "matlab_count = languages_count.filter(regex='matlab')\n",
    "matlab_total = np.sum(matlab_count.values)\n",
    "print(matlab_total)"
   ]
  },
  {
   "cell_type": "code",
   "execution_count": null,
   "id": "6a48df0d",
   "metadata": {},
   "outputs": [],
   "source": [
    "python_count = languages_count.filter(regex='python')\n",
    "python_total = np.sum(python_count.values)\n",
    "print(python_total)"
   ]
  },
  {
   "cell_type": "code",
   "execution_count": null,
   "id": "075ebcd6",
   "metadata": {},
   "outputs": [],
   "source": [
    "julia_count = languages_count.filter(regex='julia')\n",
    "julia_total = np.sum(julia_count.values)\n",
    "print(julia_total)"
   ]
  },
  {
   "cell_type": "code",
   "execution_count": null,
   "id": "fc5ac508",
   "metadata": {},
   "outputs": [],
   "source": [
    "cpp_count = languages_count.filter(regex='c\\+\\+')\n",
    "cpp_total = np.sum(cpp_count.values)\n",
    "print(cpp_total)"
   ]
  },
  {
   "cell_type": "code",
   "execution_count": null,
   "id": "a1c6d189",
   "metadata": {},
   "outputs": [],
   "source": [
    "c_count = languages_count.filter(regex='\\ c')\n",
    "c_total = np.sum(c_count.values)\n",
    "print(c_total)"
   ]
  },
  {
   "cell_type": "code",
   "execution_count": null,
   "id": "4dc91505",
   "metadata": {},
   "outputs": [],
   "source": [
    "shell_count = languages_count.filter(regex='shell')\n",
    "shell_total = np.sum(shell_count.values)\n",
    "print(shell_total)"
   ]
  },
  {
   "cell_type": "markdown",
   "id": "23af6e2d",
   "metadata": {},
   "source": [
    "## Get gender count"
   ]
  },
  {
   "cell_type": "code",
   "execution_count": null,
   "id": "83aba91e",
   "metadata": {},
   "outputs": [],
   "source": [
    "first_author_gender_count = df['First author gender'].value_counts()\n",
    "last_author_gender_count = df['Last author gender'].value_counts()"
   ]
  },
  {
   "cell_type": "code",
   "execution_count": null,
   "id": "8f1e6f3f",
   "metadata": {},
   "outputs": [],
   "source": [
    "male_first = first_author_gender_count['male']\n",
    "print(male_first)"
   ]
  },
  {
   "cell_type": "code",
   "execution_count": null,
   "id": "75fd6f22",
   "metadata": {},
   "outputs": [],
   "source": [
    "female_first = first_author_gender_count['female']\n",
    "print(female_first)"
   ]
  },
  {
   "cell_type": "code",
   "execution_count": null,
   "id": "7d2d9d57",
   "metadata": {},
   "outputs": [],
   "source": [
    "male_last = last_author_gender_count['male']\n",
    "print(male_last)"
   ]
  },
  {
   "cell_type": "code",
   "execution_count": null,
   "id": "421dc1de",
   "metadata": {},
   "outputs": [],
   "source": [
    "female_last = last_author_gender_count['female']\n",
    "print(female_last)"
   ]
  },
  {
   "cell_type": "markdown",
   "id": "2338da0b",
   "metadata": {},
   "source": [
    "## Print final statistics"
   ]
  },
  {
   "cell_type": "code",
   "execution_count": null,
   "id": "92722e2c",
   "metadata": {},
   "outputs": [],
   "source": [
    "total_statistics = {}\n",
    "total_statistics['Total papers'] = papers_total\n",
    "total_statistics['% papers with matched keyword'] = keywords_total / papers_total * 100\n",
    "total_statistics['% total papers that did actually share code/data'] = shared_codedata / papers_total * 100\n",
    "total_statistics['% matched papers that didn\\'t actually share code/data'] = false_positives / keywords_total * 100\n",
    "total_statistics['% matched papers that did actually share code/data'] = shared_codedata / keywords_total * 100\n",
    "total_statistics['% of total papers that shared code'] = shared_code / papers_total * 100\n",
    "total_statistics['% of total papers that shared data'] = shared_data / papers_total * 100\n",
    "total_statistics['% of papers that shared code/data that hosted it on GitHub'] = github_total / shared_codedata * 100\n",
    "total_statistics['% of papers that shared code that used Python'] = python_total / shared_code * 100\n",
    "total_statistics['% of papers that shared code that used MATLAB'] = matlab_total / shared_code * 100\n",
    "total_statistics['% of papers that shared code that used C++'] = cpp_total / shared_code * 100\n",
    "total_statistics['% of papers that shared code that used Julia'] = julia_total / shared_code * 100\n",
    "total_statistics['% of papers that shared stuff that had male first authors'] = male_first / shared_codedata * 100\n",
    "total_statistics['% of papers that shared stuff that had female first authors'] = female_first / shared_codedata * 100\n",
    "total_statistics['% of papers that shared stuff that had male last authors'] = male_last / shared_codedata * 100\n",
    "total_statistics['% of papers that shared stuff that had female last authors'] = female_last / shared_codedata * 100"
   ]
  },
  {
   "cell_type": "code",
   "execution_count": null,
   "id": "74b40223",
   "metadata": {},
   "outputs": [],
   "source": [
    "ser = pd.Series(data=total_statistics)\n",
    "print(ser.astype(int))"
   ]
  },
  {
   "cell_type": "code",
   "execution_count": null,
   "id": "5a2a6254",
   "metadata": {},
   "outputs": [],
   "source": [
    "ser.to_excel(\"2020.xlsx\")"
   ]
  },
  {
   "cell_type": "code",
   "execution_count": null,
   "id": "5b6c7342",
   "metadata": {},
   "outputs": [],
   "source": []
  }
 ],
 "metadata": {
  "kernelspec": {
   "display_name": "Python 3",
   "language": "python",
   "name": "python3"
  },
  "language_info": {
   "codemirror_mode": {
    "name": "ipython",
    "version": 3
   },
   "file_extension": ".py",
   "mimetype": "text/x-python",
   "name": "python",
   "nbconvert_exporter": "python",
   "pygments_lexer": "ipython3",
   "version": "3.8.8"
  }
 },
 "nbformat": 4,
 "nbformat_minor": 5
}
